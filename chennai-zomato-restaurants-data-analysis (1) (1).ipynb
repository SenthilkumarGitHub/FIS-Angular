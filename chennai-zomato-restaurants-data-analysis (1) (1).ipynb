{
 "cells": [
  {
   "cell_type": "markdown",
   "metadata": {},
   "source": [
    "# **Chennai Zomato Restaurants DataSet Analysis & Visualization**\n"
   ]
  },
  {
   "cell_type": "markdown",
   "metadata": {},
   "source": [
    "![](http://mc.webpcache.epapr.in/discover.php?in=https://www.boomlive.in/h-upload/2021/07/23/1600x960_953470-zomato.jpg)"
   ]
  },
  {
   "cell_type": "markdown",
   "metadata": {},
   "source": [
    "## Importing Libraries"
   ]
  },
  {
   "cell_type": "code",
   "execution_count": 2,
   "metadata": {
    "execution": {
     "iopub.execute_input": "2023-04-28T12:02:33.543322Z",
     "iopub.status.busy": "2023-04-28T12:02:33.542911Z",
     "iopub.status.idle": "2023-04-28T12:02:34.282254Z",
     "shell.execute_reply": "2023-04-28T12:02:34.280816Z",
     "shell.execute_reply.started": "2023-04-28T12:02:33.543288Z"
    }
   },
   "outputs": [],
   "source": [
    "import pandas as pd\n",
    "import numpy as np\n",
    "import matplotlib.pyplot as plt\n",
    "import seaborn as sns\n",
    "plt.style.use('dark_background')"
   ]
  },
  {
   "cell_type": "markdown",
   "metadata": {},
   "source": [
    "## Reading CSV"
   ]
  },
  {
   "cell_type": "code",
   "execution_count": 3,
   "metadata": {
    "execution": {
     "iopub.execute_input": "2023-04-28T12:02:40.164420Z",
     "iopub.status.busy": "2023-04-28T12:02:40.163975Z",
     "iopub.status.idle": "2023-04-28T12:02:40.357417Z",
     "shell.execute_reply": "2023-04-28T12:02:40.356120Z",
     "shell.execute_reply.started": "2023-04-28T12:02:40.164381Z"
    }
   },
   "outputs": [
    {
     "data": {
      "text/html": [
       "<div>\n",
       "<style scoped>\n",
       "    .dataframe tbody tr th:only-of-type {\n",
       "        vertical-align: middle;\n",
       "    }\n",
       "\n",
       "    .dataframe tbody tr th {\n",
       "        vertical-align: top;\n",
       "    }\n",
       "\n",
       "    .dataframe thead th {\n",
       "        text-align: right;\n",
       "    }\n",
       "</style>\n",
       "<table border=\"1\" class=\"dataframe\">\n",
       "  <thead>\n",
       "    <tr style=\"text-align: right;\">\n",
       "      <th></th>\n",
       "      <th>Zomato URL</th>\n",
       "      <th>Name of Restaurant</th>\n",
       "      <th>Address</th>\n",
       "      <th>Location</th>\n",
       "      <th>Cuisine</th>\n",
       "      <th>Top Dishes</th>\n",
       "      <th>Price for 2</th>\n",
       "      <th>Dining Rating</th>\n",
       "      <th>Dining Rating Count</th>\n",
       "      <th>Delivery Rating</th>\n",
       "      <th>Delivery Rating Count</th>\n",
       "      <th>Features</th>\n",
       "    </tr>\n",
       "  </thead>\n",
       "  <tbody>\n",
       "    <tr>\n",
       "      <th>0</th>\n",
       "      <td>https://www.zomato.com/chennai/yaa-mohaideen-b...</td>\n",
       "      <td>Yaa Mohaideen Briyani</td>\n",
       "      <td>336 &amp; 338, Main Road, Pallavaram, Chennai</td>\n",
       "      <td>Pallavaram</td>\n",
       "      <td>['Biryani']</td>\n",
       "      <td>['Bread Halwa', ' Chicken 65', ' Mutton Biryan...</td>\n",
       "      <td>500.0</td>\n",
       "      <td>4.3</td>\n",
       "      <td>1500</td>\n",
       "      <td>4.3</td>\n",
       "      <td>9306</td>\n",
       "      <td>['Home Delivery', 'Indoor Seating']</td>\n",
       "    </tr>\n",
       "    <tr>\n",
       "      <th>1</th>\n",
       "      <td>https://www.zomato.com/chennai/sukkubhai-biriy...</td>\n",
       "      <td>Sukkubhai Biriyani</td>\n",
       "      <td>New 14, Old 11/3Q, Railway Station Road, MKN ...</td>\n",
       "      <td>Alandur</td>\n",
       "      <td>['Biryani', ' North Indian', ' Mughlai', ' Des...</td>\n",
       "      <td>['Beef Biryani', ' Beef Fry', ' Paratha', ' Pa...</td>\n",
       "      <td>1000.0</td>\n",
       "      <td>4.4</td>\n",
       "      <td>3059</td>\n",
       "      <td>4.1</td>\n",
       "      <td>39200</td>\n",
       "      <td>['Home Delivery', 'Free Parking', 'Table booki...</td>\n",
       "    </tr>\n",
       "    <tr>\n",
       "      <th>2</th>\n",
       "      <td>https://www.zomato.com/chennai/ss-hyderabad-bi...</td>\n",
       "      <td>SS Hyderabad Biryani</td>\n",
       "      <td>98/339, Arcot Road, Opposite Gokulam Chit Fun...</td>\n",
       "      <td>Kodambakkam</td>\n",
       "      <td>['Biryani', ' North Indian', ' Chinese', ' Ara...</td>\n",
       "      <td>['Brinjal Curry', ' Tandoori Chicken', ' Chick...</td>\n",
       "      <td>500.0</td>\n",
       "      <td>4.3</td>\n",
       "      <td>1361</td>\n",
       "      <td>4.4</td>\n",
       "      <td>10500</td>\n",
       "      <td>['Home Delivery', 'Indoor Seating']</td>\n",
       "    </tr>\n",
       "    <tr>\n",
       "      <th>3</th>\n",
       "      <td>https://www.zomato.com/chennai/kfc-perambur</td>\n",
       "      <td>KFC</td>\n",
       "      <td>10, Periyar Nagar, 70 Feet Road, Near Sheeba ...</td>\n",
       "      <td>Perambur</td>\n",
       "      <td>['Burger', ' Fast Food', ' Finger Food', ' Bev...</td>\n",
       "      <td>['Zinger Burger']</td>\n",
       "      <td>500.0</td>\n",
       "      <td>4.0</td>\n",
       "      <td>1101</td>\n",
       "      <td>4.0</td>\n",
       "      <td>11200</td>\n",
       "      <td>['Home Delivery', 'Free Parking', 'Card Upon D...</td>\n",
       "    </tr>\n",
       "    <tr>\n",
       "      <th>4</th>\n",
       "      <td>https://www.zomato.com/chennai/tasty-kitchen-p...</td>\n",
       "      <td>Tasty Kitchen</td>\n",
       "      <td>135B, SRP Colony, Peravallur, Near Perambur, ...</td>\n",
       "      <td>Perambur</td>\n",
       "      <td>['Chinese', ' Biryani', ' North Indian', ' Che...</td>\n",
       "      <td>['Mutton Biryani', ' Chicken Rice', ' Tomato R...</td>\n",
       "      <td>450.0</td>\n",
       "      <td>4.2</td>\n",
       "      <td>617</td>\n",
       "      <td>4.1</td>\n",
       "      <td>22400</td>\n",
       "      <td>['Home Delivery', 'Indoor Seating']</td>\n",
       "    </tr>\n",
       "  </tbody>\n",
       "</table>\n",
       "</div>"
      ],
      "text/plain": [
       "                                          Zomato URL     Name of Restaurant  \\\n",
       "0  https://www.zomato.com/chennai/yaa-mohaideen-b...  Yaa Mohaideen Briyani   \n",
       "1  https://www.zomato.com/chennai/sukkubhai-biriy...     Sukkubhai Biriyani   \n",
       "2  https://www.zomato.com/chennai/ss-hyderabad-bi...   SS Hyderabad Biryani   \n",
       "3        https://www.zomato.com/chennai/kfc-perambur                    KFC   \n",
       "4  https://www.zomato.com/chennai/tasty-kitchen-p...          Tasty Kitchen   \n",
       "\n",
       "                                             Address     Location  \\\n",
       "0          336 & 338, Main Road, Pallavaram, Chennai   Pallavaram   \n",
       "1   New 14, Old 11/3Q, Railway Station Road, MKN ...      Alandur   \n",
       "2   98/339, Arcot Road, Opposite Gokulam Chit Fun...  Kodambakkam   \n",
       "3   10, Periyar Nagar, 70 Feet Road, Near Sheeba ...     Perambur   \n",
       "4   135B, SRP Colony, Peravallur, Near Perambur, ...     Perambur   \n",
       "\n",
       "                                             Cuisine  \\\n",
       "0                                        ['Biryani']   \n",
       "1  ['Biryani', ' North Indian', ' Mughlai', ' Des...   \n",
       "2  ['Biryani', ' North Indian', ' Chinese', ' Ara...   \n",
       "3  ['Burger', ' Fast Food', ' Finger Food', ' Bev...   \n",
       "4  ['Chinese', ' Biryani', ' North Indian', ' Che...   \n",
       "\n",
       "                                          Top Dishes  Price for 2  \\\n",
       "0  ['Bread Halwa', ' Chicken 65', ' Mutton Biryan...        500.0   \n",
       "1  ['Beef Biryani', ' Beef Fry', ' Paratha', ' Pa...       1000.0   \n",
       "2  ['Brinjal Curry', ' Tandoori Chicken', ' Chick...        500.0   \n",
       "3                                  ['Zinger Burger']        500.0   \n",
       "4  ['Mutton Biryani', ' Chicken Rice', ' Tomato R...        450.0   \n",
       "\n",
       "  Dining Rating Dining Rating Count Delivery Rating Delivery Rating Count  \\\n",
       "0           4.3                1500             4.3                  9306   \n",
       "1           4.4                3059             4.1                 39200   \n",
       "2           4.3                1361             4.4                 10500   \n",
       "3           4.0                1101             4.0                 11200   \n",
       "4           4.2                 617             4.1                 22400   \n",
       "\n",
       "                                            Features  \n",
       "0                ['Home Delivery', 'Indoor Seating']  \n",
       "1  ['Home Delivery', 'Free Parking', 'Table booki...  \n",
       "2                ['Home Delivery', 'Indoor Seating']  \n",
       "3  ['Home Delivery', 'Free Parking', 'Card Upon D...  \n",
       "4                ['Home Delivery', 'Indoor Seating']  "
      ]
     },
     "execution_count": 3,
     "metadata": {},
     "output_type": "execute_result"
    }
   ],
   "source": [
    "#df = pd.read_csv('/kaggle/input/chennai-zomato-restaurants-data/Zomato Chennai Listing 2020.csv')\n",
    "df = pd.read_csv('C:/Users/HP/Downloads/Zomato Chennai Listing/Zomato Chennai Listing 2020.csv')\n",
    "df.head()"
   ]
  },
  {
   "cell_type": "code",
   "execution_count": 4,
   "metadata": {
    "execution": {
     "iopub.execute_input": "2023-04-28T12:02:51.389976Z",
     "iopub.status.busy": "2023-04-28T12:02:51.388782Z",
     "iopub.status.idle": "2023-04-28T12:02:51.397146Z",
     "shell.execute_reply": "2023-04-28T12:02:51.396018Z",
     "shell.execute_reply.started": "2023-04-28T12:02:51.389927Z"
    }
   },
   "outputs": [
    {
     "data": {
      "text/plain": [
       "(12032, 12)"
      ]
     },
     "execution_count": 4,
     "metadata": {},
     "output_type": "execute_result"
    }
   ],
   "source": [
    "df.shape"
   ]
  },
  {
   "cell_type": "code",
   "execution_count": 5,
   "metadata": {
    "execution": {
     "iopub.execute_input": "2023-04-28T10:41:15.728626Z",
     "iopub.status.busy": "2023-04-28T10:41:15.728091Z",
     "iopub.status.idle": "2023-04-28T10:41:15.738718Z",
     "shell.execute_reply": "2023-04-28T10:41:15.737147Z",
     "shell.execute_reply.started": "2023-04-28T10:41:15.728581Z"
    }
   },
   "outputs": [
    {
     "data": {
      "text/plain": [
       "Index(['Zomato URL', 'Name of Restaurant', 'Address', 'Location', 'Cuisine',\n",
       "       'Top Dishes', 'Price for 2', 'Dining Rating', 'Dining Rating Count',\n",
       "       'Delivery Rating', 'Delivery Rating Count', 'Features'],\n",
       "      dtype='object')"
      ]
     },
     "execution_count": 5,
     "metadata": {},
     "output_type": "execute_result"
    }
   ],
   "source": [
    "df.columns"
   ]
  },
  {
   "cell_type": "code",
   "execution_count": 6,
   "metadata": {
    "execution": {
     "iopub.execute_input": "2023-04-28T12:03:04.893531Z",
     "iopub.status.busy": "2023-04-28T12:03:04.893137Z",
     "iopub.status.idle": "2023-04-28T12:03:04.911050Z",
     "shell.execute_reply": "2023-04-28T12:03:04.909818Z",
     "shell.execute_reply.started": "2023-04-28T12:03:04.893499Z"
    }
   },
   "outputs": [
    {
     "data": {
      "text/html": [
       "<div>\n",
       "<style scoped>\n",
       "    .dataframe tbody tr th:only-of-type {\n",
       "        vertical-align: middle;\n",
       "    }\n",
       "\n",
       "    .dataframe tbody tr th {\n",
       "        vertical-align: top;\n",
       "    }\n",
       "\n",
       "    .dataframe thead th {\n",
       "        text-align: right;\n",
       "    }\n",
       "</style>\n",
       "<table border=\"1\" class=\"dataframe\">\n",
       "  <thead>\n",
       "    <tr style=\"text-align: right;\">\n",
       "      <th></th>\n",
       "      <th>Name of Restaurant</th>\n",
       "      <th>Location</th>\n",
       "      <th>Cuisine</th>\n",
       "      <th>Price for 2</th>\n",
       "      <th>Dining Rating</th>\n",
       "      <th>Delivery Rating</th>\n",
       "      <th>Features</th>\n",
       "    </tr>\n",
       "  </thead>\n",
       "  <tbody>\n",
       "    <tr>\n",
       "      <th>0</th>\n",
       "      <td>Yaa Mohaideen Briyani</td>\n",
       "      <td>Pallavaram</td>\n",
       "      <td>['Biryani']</td>\n",
       "      <td>500.0</td>\n",
       "      <td>4.3</td>\n",
       "      <td>4.3</td>\n",
       "      <td>['Home Delivery', 'Indoor Seating']</td>\n",
       "    </tr>\n",
       "    <tr>\n",
       "      <th>1</th>\n",
       "      <td>Sukkubhai Biriyani</td>\n",
       "      <td>Alandur</td>\n",
       "      <td>['Biryani', ' North Indian', ' Mughlai', ' Des...</td>\n",
       "      <td>1000.0</td>\n",
       "      <td>4.4</td>\n",
       "      <td>4.1</td>\n",
       "      <td>['Home Delivery', 'Free Parking', 'Table booki...</td>\n",
       "    </tr>\n",
       "    <tr>\n",
       "      <th>2</th>\n",
       "      <td>SS Hyderabad Biryani</td>\n",
       "      <td>Kodambakkam</td>\n",
       "      <td>['Biryani', ' North Indian', ' Chinese', ' Ara...</td>\n",
       "      <td>500.0</td>\n",
       "      <td>4.3</td>\n",
       "      <td>4.4</td>\n",
       "      <td>['Home Delivery', 'Indoor Seating']</td>\n",
       "    </tr>\n",
       "    <tr>\n",
       "      <th>3</th>\n",
       "      <td>KFC</td>\n",
       "      <td>Perambur</td>\n",
       "      <td>['Burger', ' Fast Food', ' Finger Food', ' Bev...</td>\n",
       "      <td>500.0</td>\n",
       "      <td>4.0</td>\n",
       "      <td>4.0</td>\n",
       "      <td>['Home Delivery', 'Free Parking', 'Card Upon D...</td>\n",
       "    </tr>\n",
       "    <tr>\n",
       "      <th>4</th>\n",
       "      <td>Tasty Kitchen</td>\n",
       "      <td>Perambur</td>\n",
       "      <td>['Chinese', ' Biryani', ' North Indian', ' Che...</td>\n",
       "      <td>450.0</td>\n",
       "      <td>4.2</td>\n",
       "      <td>4.1</td>\n",
       "      <td>['Home Delivery', 'Indoor Seating']</td>\n",
       "    </tr>\n",
       "    <tr>\n",
       "      <th>5</th>\n",
       "      <td>Dine N Fun</td>\n",
       "      <td>Medavakkam</td>\n",
       "      <td>['South Indian', ' North Indian', ' Chinese']</td>\n",
       "      <td>450.0</td>\n",
       "      <td>4.1</td>\n",
       "      <td>3.8</td>\n",
       "      <td>['Home Delivery', 'Indoor Seating']</td>\n",
       "    </tr>\n",
       "    <tr>\n",
       "      <th>6</th>\n",
       "      <td>Bai Veetu Kalyanam</td>\n",
       "      <td>Navallur</td>\n",
       "      <td>['Biryani']</td>\n",
       "      <td>350.0</td>\n",
       "      <td>None</td>\n",
       "      <td>4.3</td>\n",
       "      <td>['Home Delivery']</td>\n",
       "    </tr>\n",
       "    <tr>\n",
       "      <th>7</th>\n",
       "      <td>Cafe Arabica</td>\n",
       "      <td>Anna Nagar East</td>\n",
       "      <td>['Cafe', ' Fast Food']</td>\n",
       "      <td>800.0</td>\n",
       "      <td>4.3</td>\n",
       "      <td>4.3</td>\n",
       "      <td>['Breakfast', 'Home Delivery', 'Indoor Seating...</td>\n",
       "    </tr>\n",
       "    <tr>\n",
       "      <th>8</th>\n",
       "      <td>Savoury Sea Shell</td>\n",
       "      <td>Anna Nagar East</td>\n",
       "      <td>['Arabian', ' Chinese', ' North Indian', ' Leb...</td>\n",
       "      <td>1400.0</td>\n",
       "      <td>4.2</td>\n",
       "      <td>4.1</td>\n",
       "      <td>['Home Delivery', 'Indoor Seating', 'Card Upon...</td>\n",
       "    </tr>\n",
       "    <tr>\n",
       "      <th>9</th>\n",
       "      <td>Sangeetha Veg Restaurant</td>\n",
       "      <td>T. Nagar</td>\n",
       "      <td>['South Indian', ' North Indian', ' Chinese', ...</td>\n",
       "      <td>800.0</td>\n",
       "      <td>4.4</td>\n",
       "      <td>4.2</td>\n",
       "      <td>['Breakfast', 'Home Delivery', 'Vegetarian Onl...</td>\n",
       "    </tr>\n",
       "  </tbody>\n",
       "</table>\n",
       "</div>"
      ],
      "text/plain": [
       "         Name of Restaurant         Location  \\\n",
       "0     Yaa Mohaideen Briyani       Pallavaram   \n",
       "1        Sukkubhai Biriyani          Alandur   \n",
       "2      SS Hyderabad Biryani      Kodambakkam   \n",
       "3                       KFC         Perambur   \n",
       "4             Tasty Kitchen         Perambur   \n",
       "5                Dine N Fun       Medavakkam   \n",
       "6        Bai Veetu Kalyanam         Navallur   \n",
       "7              Cafe Arabica  Anna Nagar East   \n",
       "8         Savoury Sea Shell  Anna Nagar East   \n",
       "9  Sangeetha Veg Restaurant         T. Nagar   \n",
       "\n",
       "                                             Cuisine  Price for 2  \\\n",
       "0                                        ['Biryani']        500.0   \n",
       "1  ['Biryani', ' North Indian', ' Mughlai', ' Des...       1000.0   \n",
       "2  ['Biryani', ' North Indian', ' Chinese', ' Ara...        500.0   \n",
       "3  ['Burger', ' Fast Food', ' Finger Food', ' Bev...        500.0   \n",
       "4  ['Chinese', ' Biryani', ' North Indian', ' Che...        450.0   \n",
       "5      ['South Indian', ' North Indian', ' Chinese']        450.0   \n",
       "6                                        ['Biryani']        350.0   \n",
       "7                             ['Cafe', ' Fast Food']        800.0   \n",
       "8  ['Arabian', ' Chinese', ' North Indian', ' Leb...       1400.0   \n",
       "9  ['South Indian', ' North Indian', ' Chinese', ...        800.0   \n",
       "\n",
       "  Dining Rating Delivery Rating  \\\n",
       "0           4.3             4.3   \n",
       "1           4.4             4.1   \n",
       "2           4.3             4.4   \n",
       "3           4.0             4.0   \n",
       "4           4.2             4.1   \n",
       "5           4.1             3.8   \n",
       "6          None             4.3   \n",
       "7           4.3             4.3   \n",
       "8           4.2             4.1   \n",
       "9           4.4             4.2   \n",
       "\n",
       "                                            Features  \n",
       "0                ['Home Delivery', 'Indoor Seating']  \n",
       "1  ['Home Delivery', 'Free Parking', 'Table booki...  \n",
       "2                ['Home Delivery', 'Indoor Seating']  \n",
       "3  ['Home Delivery', 'Free Parking', 'Card Upon D...  \n",
       "4                ['Home Delivery', 'Indoor Seating']  \n",
       "5                ['Home Delivery', 'Indoor Seating']  \n",
       "6                                  ['Home Delivery']  \n",
       "7  ['Breakfast', 'Home Delivery', 'Indoor Seating...  \n",
       "8  ['Home Delivery', 'Indoor Seating', 'Card Upon...  \n",
       "9  ['Breakfast', 'Home Delivery', 'Vegetarian Onl...  "
      ]
     },
     "execution_count": 6,
     "metadata": {},
     "output_type": "execute_result"
    }
   ],
   "source": [
    "df = df.drop(['Zomato URL', 'Address', 'Top Dishes', 'Dining Rating Count', 'Delivery Rating Count'], axis = 1)\n",
    "df.head(10)"
   ]
  },
  {
   "cell_type": "code",
   "execution_count": 7,
   "metadata": {
    "execution": {
     "iopub.execute_input": "2023-04-28T12:03:10.093714Z",
     "iopub.status.busy": "2023-04-28T12:03:10.093324Z",
     "iopub.status.idle": "2023-04-28T12:03:10.112364Z",
     "shell.execute_reply": "2023-04-28T12:03:10.111394Z",
     "shell.execute_reply.started": "2023-04-28T12:03:10.093679Z"
    }
   },
   "outputs": [
    {
     "name": "stdout",
     "output_type": "stream",
     "text": [
      "<class 'pandas.core.frame.DataFrame'>\n",
      "RangeIndex: 12032 entries, 0 to 12031\n",
      "Data columns (total 7 columns):\n",
      " #   Column              Non-Null Count  Dtype  \n",
      "---  ------              --------------  -----  \n",
      " 0   Name of Restaurant  12032 non-null  object \n",
      " 1   Location            12032 non-null  object \n",
      " 2   Cuisine             12032 non-null  object \n",
      " 3   Price for 2         12032 non-null  float64\n",
      " 4   Dining Rating       12032 non-null  object \n",
      " 5   Delivery Rating     12032 non-null  object \n",
      " 6   Features            12032 non-null  object \n",
      "dtypes: float64(1), object(6)\n",
      "memory usage: 658.1+ KB\n"
     ]
    }
   ],
   "source": [
    "df.info()"
   ]
  },
  {
   "cell_type": "markdown",
   "metadata": {},
   "source": [
    "## Dropping Duplicates"
   ]
  },
  {
   "cell_type": "code",
   "execution_count": 8,
   "metadata": {
    "execution": {
     "iopub.execute_input": "2023-04-28T10:43:03.620885Z",
     "iopub.status.busy": "2023-04-28T10:43:03.619711Z",
     "iopub.status.idle": "2023-04-28T10:43:03.647693Z",
     "shell.execute_reply": "2023-04-28T10:43:03.646411Z",
     "shell.execute_reply.started": "2023-04-28T10:43:03.620810Z"
    }
   },
   "outputs": [
    {
     "data": {
      "text/plain": [
       "(11986, 7)"
      ]
     },
     "execution_count": 8,
     "metadata": {},
     "output_type": "execute_result"
    }
   ],
   "source": [
    "df.drop_duplicates(inplace = True)\n",
    "df.shape"
   ]
  },
  {
   "cell_type": "markdown",
   "metadata": {},
   "source": [
    "## Cleaning Rate Column"
   ]
  },
  {
   "cell_type": "code",
   "execution_count": 9,
   "metadata": {
    "execution": {
     "iopub.execute_input": "2023-04-28T12:11:45.496925Z",
     "iopub.status.busy": "2023-04-28T12:11:45.495277Z",
     "iopub.status.idle": "2023-04-28T12:11:45.507977Z",
     "shell.execute_reply": "2023-04-28T12:11:45.506689Z",
     "shell.execute_reply.started": "2023-04-28T12:11:45.496823Z"
    }
   },
   "outputs": [
    {
     "data": {
      "text/plain": [
       "array(['4.3', '4.4', '4.0', '4.2', '4.1', 'None', '3.9', '4.5', '4.7',\n",
       "       '3.5', '4.6', '3.6', '3.8', '4.9', '4.8', '3.7', '2.7', '2.9',\n",
       "       '2.6', '3.0', '3.4', '2.4', '3.3', '2.8', '2.1', '2.0', '2.2',\n",
       "       '3.2', '2.5', '3.1', '2.3', '1.9', '1.7', '0.3', '1.0'],\n",
       "      dtype=object)"
      ]
     },
     "execution_count": 9,
     "metadata": {},
     "output_type": "execute_result"
    }
   ],
   "source": [
    "df['Dining Rating'].unique()"
   ]
  },
  {
   "cell_type": "markdown",
   "metadata": {},
   "source": [
    "## Removing \"None\"  from Rate Column"
   ]
  },
  {
   "cell_type": "code",
   "execution_count": 10,
   "metadata": {},
   "outputs": [
    {
     "data": {
      "text/plain": [
       "0    4.3\n",
       "1    4.4\n",
       "2    4.3\n",
       "3    4.0\n",
       "4    4.2\n",
       "5    4.1\n",
       "6    NaN\n",
       "7    4.3\n",
       "8    4.2\n",
       "9    4.4\n",
       "Name: Dining Rating, dtype: float64"
      ]
     },
     "execution_count": 10,
     "metadata": {},
     "output_type": "execute_result"
    }
   ],
   "source": [
    "df['Dining Rating'].replace('None', np.nan, inplace=True)\n",
    "df['Dining Rating'] = df['Dining Rating'].astype(float)\n",
    "df['Dining Rating'].dtypes\n",
    "df['Dining Rating'].head(10)"
   ]
  },
  {
   "cell_type": "code",
   "execution_count": 11,
   "metadata": {},
   "outputs": [
    {
     "data": {
      "text/plain": [
       "dtype('float64')"
      ]
     },
     "execution_count": 11,
     "metadata": {},
     "output_type": "execute_result"
    }
   ],
   "source": [
    "df['Dining Rating'].dtypes"
   ]
  },
  {
   "cell_type": "code",
   "execution_count": 12,
   "metadata": {},
   "outputs": [
    {
     "data": {
      "text/plain": [
       "44.27665609878191"
      ]
     },
     "execution_count": 12,
     "metadata": {},
     "output_type": "execute_result"
    }
   ],
   "source": [
    "#df.head(10)\n",
    "count = df[\"Dining Rating\"].isna().sum()\n",
    "#count\n",
    "percentage_null = (count/len(df[\"Dining Rating\"]))*100\n",
    "percentage_null"
   ]
  },
  {
   "cell_type": "code",
   "execution_count": 13,
   "metadata": {},
   "outputs": [
    {
     "data": {
      "text/plain": [
       "0    4.3\n",
       "1    4.4\n",
       "2    4.3\n",
       "3    4.0\n",
       "4    4.2\n",
       "5    4.1\n",
       "6    3.5\n",
       "7    4.3\n",
       "8    4.2\n",
       "9    4.4\n",
       "Name: Dining Rating, dtype: float64"
      ]
     },
     "execution_count": 13,
     "metadata": {},
     "output_type": "execute_result"
    }
   ],
   "source": [
    "df['Dining Rating'].head(10)\n",
    "medan = df[\"Dining Rating\"].median()\n",
    "df[\"Dining Rating\"].fillna(medan, inplace = True)\n",
    "df['Dining Rating'].head(10)"
   ]
  },
  {
   "cell_type": "code",
   "execution_count": 14,
   "metadata": {},
   "outputs": [
    {
     "name": "stdout",
     "output_type": "stream",
     "text": [
      "<class 'pandas.core.frame.DataFrame'>\n",
      "Int64Index: 11986 entries, 0 to 12031\n",
      "Data columns (total 7 columns):\n",
      " #   Column              Non-Null Count  Dtype  \n",
      "---  ------              --------------  -----  \n",
      " 0   Name of Restaurant  11986 non-null  object \n",
      " 1   Location            11986 non-null  object \n",
      " 2   Cuisine             11986 non-null  object \n",
      " 3   Price for 2         11986 non-null  float64\n",
      " 4   Dining Rating       11986 non-null  float64\n",
      " 5   Delivery Rating     11986 non-null  object \n",
      " 6   Features            11986 non-null  object \n",
      "dtypes: float64(2), object(5)\n",
      "memory usage: 749.1+ KB\n"
     ]
    }
   ],
   "source": [
    "df.info()"
   ]
  },
  {
   "cell_type": "markdown",
   "metadata": {},
   "source": [
    "## Dropping Null Values\n"
   ]
  },
  {
   "cell_type": "code",
   "execution_count": 15,
   "metadata": {},
   "outputs": [
    {
     "data": {
      "text/html": [
       "<div>\n",
       "<style scoped>\n",
       "    .dataframe tbody tr th:only-of-type {\n",
       "        vertical-align: middle;\n",
       "    }\n",
       "\n",
       "    .dataframe tbody tr th {\n",
       "        vertical-align: top;\n",
       "    }\n",
       "\n",
       "    .dataframe thead th {\n",
       "        text-align: right;\n",
       "    }\n",
       "</style>\n",
       "<table border=\"1\" class=\"dataframe\">\n",
       "  <thead>\n",
       "    <tr style=\"text-align: right;\">\n",
       "      <th></th>\n",
       "      <th>Name of Restaurant</th>\n",
       "      <th>Location</th>\n",
       "      <th>Cuisine</th>\n",
       "      <th>Price for 2</th>\n",
       "      <th>Dining Rating</th>\n",
       "      <th>Delivery Rating</th>\n",
       "      <th>Features</th>\n",
       "    </tr>\n",
       "  </thead>\n",
       "  <tbody>\n",
       "    <tr>\n",
       "      <th>0</th>\n",
       "      <td>Yaa Mohaideen Briyani</td>\n",
       "      <td>Pallavaram</td>\n",
       "      <td>['Biryani']</td>\n",
       "      <td>500.0</td>\n",
       "      <td>4.3</td>\n",
       "      <td>4.3</td>\n",
       "      <td>['Home Delivery', 'Indoor Seating']</td>\n",
       "    </tr>\n",
       "    <tr>\n",
       "      <th>1</th>\n",
       "      <td>Sukkubhai Biriyani</td>\n",
       "      <td>Alandur</td>\n",
       "      <td>['Biryani', ' North Indian', ' Mughlai', ' Des...</td>\n",
       "      <td>1000.0</td>\n",
       "      <td>4.4</td>\n",
       "      <td>4.1</td>\n",
       "      <td>['Home Delivery', 'Free Parking', 'Table booki...</td>\n",
       "    </tr>\n",
       "    <tr>\n",
       "      <th>2</th>\n",
       "      <td>SS Hyderabad Biryani</td>\n",
       "      <td>Kodambakkam</td>\n",
       "      <td>['Biryani', ' North Indian', ' Chinese', ' Ara...</td>\n",
       "      <td>500.0</td>\n",
       "      <td>4.3</td>\n",
       "      <td>4.4</td>\n",
       "      <td>['Home Delivery', 'Indoor Seating']</td>\n",
       "    </tr>\n",
       "    <tr>\n",
       "      <th>3</th>\n",
       "      <td>KFC</td>\n",
       "      <td>Perambur</td>\n",
       "      <td>['Burger', ' Fast Food', ' Finger Food', ' Bev...</td>\n",
       "      <td>500.0</td>\n",
       "      <td>4.0</td>\n",
       "      <td>4.0</td>\n",
       "      <td>['Home Delivery', 'Free Parking', 'Card Upon D...</td>\n",
       "    </tr>\n",
       "    <tr>\n",
       "      <th>4</th>\n",
       "      <td>Tasty Kitchen</td>\n",
       "      <td>Perambur</td>\n",
       "      <td>['Chinese', ' Biryani', ' North Indian', ' Che...</td>\n",
       "      <td>450.0</td>\n",
       "      <td>4.2</td>\n",
       "      <td>4.1</td>\n",
       "      <td>['Home Delivery', 'Indoor Seating']</td>\n",
       "    </tr>\n",
       "  </tbody>\n",
       "</table>\n",
       "</div>"
      ],
      "text/plain": [
       "      Name of Restaurant     Location  \\\n",
       "0  Yaa Mohaideen Briyani   Pallavaram   \n",
       "1     Sukkubhai Biriyani      Alandur   \n",
       "2   SS Hyderabad Biryani  Kodambakkam   \n",
       "3                    KFC     Perambur   \n",
       "4          Tasty Kitchen     Perambur   \n",
       "\n",
       "                                             Cuisine  Price for 2  \\\n",
       "0                                        ['Biryani']        500.0   \n",
       "1  ['Biryani', ' North Indian', ' Mughlai', ' Des...       1000.0   \n",
       "2  ['Biryani', ' North Indian', ' Chinese', ' Ara...        500.0   \n",
       "3  ['Burger', ' Fast Food', ' Finger Food', ' Bev...        500.0   \n",
       "4  ['Chinese', ' Biryani', ' North Indian', ' Che...        450.0   \n",
       "\n",
       "   Dining Rating Delivery Rating  \\\n",
       "0            4.3             4.3   \n",
       "1            4.4             4.1   \n",
       "2            4.3             4.4   \n",
       "3            4.0             4.0   \n",
       "4            4.2             4.1   \n",
       "\n",
       "                                            Features  \n",
       "0                ['Home Delivery', 'Indoor Seating']  \n",
       "1  ['Home Delivery', 'Free Parking', 'Table booki...  \n",
       "2                ['Home Delivery', 'Indoor Seating']  \n",
       "3  ['Home Delivery', 'Free Parking', 'Card Upon D...  \n",
       "4                ['Home Delivery', 'Indoor Seating']  "
      ]
     },
     "execution_count": 15,
     "metadata": {},
     "output_type": "execute_result"
    }
   ],
   "source": [
    "df.dropna(inplace = True)\n",
    "df.head()"
   ]
  },
  {
   "cell_type": "markdown",
   "metadata": {},
   "source": [
    "## Price for 2 and Features Column Rename"
   ]
  },
  {
   "cell_type": "code",
   "execution_count": 20,
   "metadata": {
    "execution": {
     "iopub.execute_input": "2021-06-01T09:33:33.426629Z",
     "iopub.status.busy": "2021-06-01T09:33:33.426316Z",
     "iopub.status.idle": "2021-06-01T09:33:33.61505Z",
     "shell.execute_reply": "2021-06-01T09:33:33.613507Z",
     "shell.execute_reply.started": "2021-06-01T09:33:33.426595Z"
    }
   },
   "outputs": [
    {
     "data": {
      "text/html": [
       "<div>\n",
       "<style scoped>\n",
       "    .dataframe tbody tr th:only-of-type {\n",
       "        vertical-align: middle;\n",
       "    }\n",
       "\n",
       "    .dataframe tbody tr th {\n",
       "        vertical-align: top;\n",
       "    }\n",
       "\n",
       "    .dataframe thead th {\n",
       "        text-align: right;\n",
       "    }\n",
       "</style>\n",
       "<table border=\"1\" class=\"dataframe\">\n",
       "  <thead>\n",
       "    <tr style=\"text-align: right;\">\n",
       "      <th></th>\n",
       "      <th>Name of Restaurant</th>\n",
       "      <th>Location</th>\n",
       "      <th>Cuisine</th>\n",
       "      <th>Cost for 2 People</th>\n",
       "      <th>Rating</th>\n",
       "      <th>Delivery Rating</th>\n",
       "      <th>Facilities</th>\n",
       "    </tr>\n",
       "  </thead>\n",
       "  <tbody>\n",
       "    <tr>\n",
       "      <th>0</th>\n",
       "      <td>Yaa Mohaideen Briyani</td>\n",
       "      <td>Pallavaram</td>\n",
       "      <td>['Biryani']</td>\n",
       "      <td>500.0</td>\n",
       "      <td>4.3</td>\n",
       "      <td>4.3</td>\n",
       "      <td>['Home Delivery', 'Indoor Seating']</td>\n",
       "    </tr>\n",
       "    <tr>\n",
       "      <th>1</th>\n",
       "      <td>Sukkubhai Biriyani</td>\n",
       "      <td>Alandur</td>\n",
       "      <td>['Biryani', ' North Indian', ' Mughlai', ' Des...</td>\n",
       "      <td>1000.0</td>\n",
       "      <td>4.4</td>\n",
       "      <td>4.1</td>\n",
       "      <td>['Home Delivery', 'Free Parking', 'Table booki...</td>\n",
       "    </tr>\n",
       "    <tr>\n",
       "      <th>2</th>\n",
       "      <td>SS Hyderabad Biryani</td>\n",
       "      <td>Kodambakkam</td>\n",
       "      <td>['Biryani', ' North Indian', ' Chinese', ' Ara...</td>\n",
       "      <td>500.0</td>\n",
       "      <td>4.3</td>\n",
       "      <td>4.4</td>\n",
       "      <td>['Home Delivery', 'Indoor Seating']</td>\n",
       "    </tr>\n",
       "    <tr>\n",
       "      <th>3</th>\n",
       "      <td>KFC</td>\n",
       "      <td>Perambur</td>\n",
       "      <td>['Burger', ' Fast Food', ' Finger Food', ' Bev...</td>\n",
       "      <td>500.0</td>\n",
       "      <td>4.0</td>\n",
       "      <td>4.0</td>\n",
       "      <td>['Home Delivery', 'Free Parking', 'Card Upon D...</td>\n",
       "    </tr>\n",
       "    <tr>\n",
       "      <th>4</th>\n",
       "      <td>Tasty Kitchen</td>\n",
       "      <td>Perambur</td>\n",
       "      <td>['Chinese', ' Biryani', ' North Indian', ' Che...</td>\n",
       "      <td>450.0</td>\n",
       "      <td>4.2</td>\n",
       "      <td>4.1</td>\n",
       "      <td>['Home Delivery', 'Indoor Seating']</td>\n",
       "    </tr>\n",
       "  </tbody>\n",
       "</table>\n",
       "</div>"
      ],
      "text/plain": [
       "      Name of Restaurant     Location  \\\n",
       "0  Yaa Mohaideen Briyani   Pallavaram   \n",
       "1     Sukkubhai Biriyani      Alandur   \n",
       "2   SS Hyderabad Biryani  Kodambakkam   \n",
       "3                    KFC     Perambur   \n",
       "4          Tasty Kitchen     Perambur   \n",
       "\n",
       "                                             Cuisine  Cost for 2 People  \\\n",
       "0                                        ['Biryani']              500.0   \n",
       "1  ['Biryani', ' North Indian', ' Mughlai', ' Des...             1000.0   \n",
       "2  ['Biryani', ' North Indian', ' Chinese', ' Ara...              500.0   \n",
       "3  ['Burger', ' Fast Food', ' Finger Food', ' Bev...              500.0   \n",
       "4  ['Chinese', ' Biryani', ' North Indian', ' Che...              450.0   \n",
       "\n",
       "   Rating Delivery Rating                                         Facilities  \n",
       "0     4.3             4.3                ['Home Delivery', 'Indoor Seating']  \n",
       "1     4.4             4.1  ['Home Delivery', 'Free Parking', 'Table booki...  \n",
       "2     4.3             4.4                ['Home Delivery', 'Indoor Seating']  \n",
       "3     4.0             4.0  ['Home Delivery', 'Free Parking', 'Card Upon D...  \n",
       "4     4.2             4.1                ['Home Delivery', 'Indoor Seating']  "
      ]
     },
     "execution_count": 20,
     "metadata": {},
     "output_type": "execute_result"
    }
   ],
   "source": [
    "df.rename(columns = {'Price for 2':'Cost for 2 People','Dining Rating':'Rating', 'Features':'Facilities'}, inplace = True)\n",
    "df.head()"
   ]
  },
  {
   "cell_type": "code",
   "execution_count": 21,
   "metadata": {},
   "outputs": [
    {
     "data": {
      "text/html": [
       "<div>\n",
       "<style scoped>\n",
       "    .dataframe tbody tr th:only-of-type {\n",
       "        vertical-align: middle;\n",
       "    }\n",
       "\n",
       "    .dataframe tbody tr th {\n",
       "        vertical-align: top;\n",
       "    }\n",
       "\n",
       "    .dataframe thead th {\n",
       "        text-align: right;\n",
       "    }\n",
       "</style>\n",
       "<table border=\"1\" class=\"dataframe\">\n",
       "  <thead>\n",
       "    <tr style=\"text-align: right;\">\n",
       "      <th></th>\n",
       "      <th>Name of Restaurant</th>\n",
       "      <th>Location</th>\n",
       "      <th>Cuisine</th>\n",
       "      <th>Cost for 2 People</th>\n",
       "      <th>Rating</th>\n",
       "      <th>Delivery Rating</th>\n",
       "      <th>Facilities</th>\n",
       "    </tr>\n",
       "  </thead>\n",
       "  <tbody>\n",
       "    <tr>\n",
       "      <th>0</th>\n",
       "      <td>Yaa Mohaideen Briyani</td>\n",
       "      <td>Pallavaram</td>\n",
       "      <td>['Biryani']</td>\n",
       "      <td>500</td>\n",
       "      <td>4.3</td>\n",
       "      <td>4.3</td>\n",
       "      <td>['Home Delivery', 'Indoor Seating']</td>\n",
       "    </tr>\n",
       "    <tr>\n",
       "      <th>1</th>\n",
       "      <td>Sukkubhai Biriyani</td>\n",
       "      <td>Alandur</td>\n",
       "      <td>['Biryani', ' North Indian', ' Mughlai', ' Des...</td>\n",
       "      <td>1000</td>\n",
       "      <td>4.4</td>\n",
       "      <td>4.1</td>\n",
       "      <td>['Home Delivery', 'Free Parking', 'Table booki...</td>\n",
       "    </tr>\n",
       "    <tr>\n",
       "      <th>2</th>\n",
       "      <td>SS Hyderabad Biryani</td>\n",
       "      <td>Kodambakkam</td>\n",
       "      <td>['Biryani', ' North Indian', ' Chinese', ' Ara...</td>\n",
       "      <td>500</td>\n",
       "      <td>4.3</td>\n",
       "      <td>4.4</td>\n",
       "      <td>['Home Delivery', 'Indoor Seating']</td>\n",
       "    </tr>\n",
       "    <tr>\n",
       "      <th>3</th>\n",
       "      <td>KFC</td>\n",
       "      <td>Perambur</td>\n",
       "      <td>['Burger', ' Fast Food', ' Finger Food', ' Bev...</td>\n",
       "      <td>500</td>\n",
       "      <td>4.0</td>\n",
       "      <td>4.0</td>\n",
       "      <td>['Home Delivery', 'Free Parking', 'Card Upon D...</td>\n",
       "    </tr>\n",
       "    <tr>\n",
       "      <th>4</th>\n",
       "      <td>Tasty Kitchen</td>\n",
       "      <td>Perambur</td>\n",
       "      <td>['Chinese', ' Biryani', ' North Indian', ' Che...</td>\n",
       "      <td>450</td>\n",
       "      <td>4.2</td>\n",
       "      <td>4.1</td>\n",
       "      <td>['Home Delivery', 'Indoor Seating']</td>\n",
       "    </tr>\n",
       "  </tbody>\n",
       "</table>\n",
       "</div>"
      ],
      "text/plain": [
       "      Name of Restaurant     Location  \\\n",
       "0  Yaa Mohaideen Briyani   Pallavaram   \n",
       "1     Sukkubhai Biriyani      Alandur   \n",
       "2   SS Hyderabad Biryani  Kodambakkam   \n",
       "3                    KFC     Perambur   \n",
       "4          Tasty Kitchen     Perambur   \n",
       "\n",
       "                                             Cuisine  Cost for 2 People  \\\n",
       "0                                        ['Biryani']                500   \n",
       "1  ['Biryani', ' North Indian', ' Mughlai', ' Des...               1000   \n",
       "2  ['Biryani', ' North Indian', ' Chinese', ' Ara...                500   \n",
       "3  ['Burger', ' Fast Food', ' Finger Food', ' Bev...                500   \n",
       "4  ['Chinese', ' Biryani', ' North Indian', ' Che...                450   \n",
       "\n",
       "   Rating Delivery Rating                                         Facilities  \n",
       "0     4.3             4.3                ['Home Delivery', 'Indoor Seating']  \n",
       "1     4.4             4.1  ['Home Delivery', 'Free Parking', 'Table booki...  \n",
       "2     4.3             4.4                ['Home Delivery', 'Indoor Seating']  \n",
       "3     4.0             4.0  ['Home Delivery', 'Free Parking', 'Card Upon D...  \n",
       "4     4.2             4.1                ['Home Delivery', 'Indoor Seating']  "
      ]
     },
     "execution_count": 21,
     "metadata": {},
     "output_type": "execute_result"
    }
   ],
   "source": [
    "df['Cost for 2 People'] = df['Cost for 2 People'].astype(int)\n",
    "df.head()"
   ]
  },
  {
   "cell_type": "markdown",
   "metadata": {},
   "source": [
    "## Location Column, lets keep it.\n"
   ]
  },
  {
   "cell_type": "code",
   "execution_count": 17,
   "metadata": {
    "execution": {
     "iopub.execute_input": "2021-06-01T09:33:33.790685Z",
     "iopub.status.busy": "2021-06-01T09:33:33.790128Z",
     "iopub.status.idle": "2021-06-01T09:33:34.297863Z",
     "shell.execute_reply": "2021-06-01T09:33:34.296631Z",
     "shell.execute_reply.started": "2021-06-01T09:33:33.790461Z"
    }
   },
   "outputs": [
    {
     "data": {
      "text/plain": [
       "array(['Pallavaram', 'Alandur', 'Kodambakkam', 'Perambur', 'Medavakkam',\n",
       "       'Navallur', 'Anna Nagar East', 'T. Nagar', 'Velachery',\n",
       "       'Vadapalani', 'Porur', 'Kilpauk', 'Purasavakkam', 'Ashok Nagar',\n",
       "       'Chetpet', 'Phoenix Market City, Velachery', 'Aminijikarai',\n",
       "       'Ramapuram', 'Mylapore', 'Thuraipakkam', 'RA Puram', 'Alwarpet',\n",
       "       'Mogappair', 'West Mambalam', 'Adyar', 'Nungambakkam',\n",
       "       'Royapettah', 'Chromepet', 'Kolathur', 'Valasaravakkam', 'Guindy',\n",
       "       'Potheri', 'Egmore', 'Madipakkam', 'Thiruvanmiyur', 'Saligramam',\n",
       "       'Sholinganallur', 'Perungudi', 'Besant Nagar', 'Kotturpuram',\n",
       "       'Semmancheri', 'Royapuram', 'Anna Nagar West',\n",
       "       'Grand by GRT Hotels', 'Ambattur', 'Thousand Lights',\n",
       "       'Mayajaal Multiplex, Kanathur', 'Washermenpet', 'Selaiyur',\n",
       "       'Old Mahabalipuram Road (OMR)', 'The Westin Chennai, Velachery',\n",
       "       'The Park, Nungambakkam', 'Choolaimedu',\n",
       "       'New Woodlands Hotel, Mylapore', 'Abhiramapuram', 'Triplicane',\n",
       "       'Poonamalle', 'Gopalapuram', 'East Coast Road (ECR)',\n",
       "       'OMR Food Street, Kandanchavadi',\n",
       "       'Green Meadows Resorts, Palavakkam', 'TNHB Complex, Besant Nagar',\n",
       "       'Kanathur', 'Neelangarai', 'GST Road', 'MRC Nagar',\n",
       "       'Hablis Hotel, Guindy', 'Paati Veedu, T.Nagar',\n",
       "       'The Savera Hotel, RK Salai (Cathedral Road)',\n",
       "       'Kipling, East Coast Road (ECR)', 'Somerset Greenways',\n",
       "       'The Spring Hotel, Nungambakkam', 'Mahabalipuram',\n",
       "       'Hilton Chennai, Guindy', 'GLM Meridian Hotel, T. Nagar',\n",
       "       'Foodies Kitchen', 'Green Park Hotel, Vadapalani', 'Egatoor',\n",
       "       'Express Avenue Mall,Royapettah', 'The Raintree, Teynampet',\n",
       "       'Sathyam Cinemas Complex, Royapettah', 'Shenoy Nagar', 'Citadines',\n",
       "       \"Taj Fisherman's Cove Resort & Spa, Kanchipuram District\",\n",
       "       'Courtyard by Marriott, Teynampet', 'Hotel Rajpark, Alwarpet',\n",
       "       'St. Thomas Mount', 'ITC Grand Chola, Guindy', 'Akkarai',\n",
       "       'The Leela Palace, MRC Nagar', 'Adambakkam', 'Ekkaduthangal',\n",
       "       'Radisson Blu, GST Road', 'Taramani', 'Palavakkam', 'Teynampet',\n",
       "       'Muttukadu', 'Hyatt Regency, Teynampet', 'Grande Bay Resort',\n",
       "       'Radisson Blu Temple Bay, Mamallapuram',\n",
       "       'Holiday Inn Chennai OMR IT Expressway', 'Injambakkam',\n",
       "       'Hotel Centre Point, Sholinganallur', 'Sowcarpet',\n",
       "       'Hotel Palmgrove, Nungambakkam', 'Taj Coromandel, Nungambakkam',\n",
       "       'Avadi', 'Taj Club House, Thousand Lights', 'Tambaram',\n",
       "       'Pallikaranai', 'Karapakkam', 'OMR Food Street, Guduvancheri',\n",
       "       'The Accord Metropolitan, T. Nagar', 'The Raintree, Alwarpet',\n",
       "       'Crowne Plaza Chennai Adyar Park, Alwarpet', 'K.K. Nagar',\n",
       "       'Harrisons Hotel, Nungambakkam', 'Lemon Tree Hotel, Guindy',\n",
       "       'Nandanam', 'Vivanta Chennai, IT Expressway, Sholinganallur ',\n",
       "       'The Residency, T. Nagar', 'Novotel Chennai Sipcot', 'Padur',\n",
       "       'Kottivakkam', 'Ispahani Centre, Nungambakkam', 'Nanganallur',\n",
       "       'JP Hotel, Koyambedu', 'Kovalam', 'Novotel Chennai, OMR',\n",
       "       'Vandalur', 'Feathers, A Radha Hotel',\n",
       "       'Massbunk Complex, Purasavakkam', 'OMR Food Street, Ambattur',\n",
       "       'Zone by The Park, Pallikaranai', 'Aloft Chennai, Sholinganallur',\n",
       "       'Okkiyampet', 'Park Town', 'Benzz Park, T. Nagar',\n",
       "       'Ramada, Egmore', 'OMR Food Street, Navallur',\n",
       "       'Ambica Empire, Vadapalani', 'E Hotel, Royapettah',\n",
       "       'Le Royal Meridien, St. Thomas Mount',\n",
       "       'Hotel Ranjith, Nungambakkam', 'Trident, GST Road', 'George Town',\n",
       "       'Ramada Plaza, Guindy', 'Deccan Plaza, Royapettah', 'The Slate',\n",
       "       'Santhome', 'Four Points by Sheraton, East Coast Road (ECR)',\n",
       "       'Mahindra World City, Chengalpattu', 'Radisson Blu, Egmore',\n",
       "       'Vepery', 'Hotel Park Elanza, Nungambakkam',\n",
       "       'Jaag Hotels, T.Nagar', 'WelcomHotel, RK Salai (Cathedral Road)',\n",
       "       'Novotel Chennai, Nandanam', 'Forum Vijaya Mall, Vadapalani',\n",
       "       'Saidapet', 'Hotel Vassi Palaze, Kanchipuram District', 'V7 Hotel',\n",
       "       'Turyaa Chennai ', 'Dash@OMR, Old Mahabalipuram Road (OMR)',\n",
       "       'Days Hotel, Old Mahabalipuram Road (OMR)', 'Maduravoyal',\n",
       "       'IBIS Chennai, OMR', 'Koyambedu', 'Arumbakkam',\n",
       "       'Ambassador Pallava, Egmore', 'Abu Sarovar Portico, Egmore',\n",
       "       'Lemon Tree Shimona, Ramapuram', 'Clarion Hotel, Mylapore',\n",
       "       'Kelambakkam', 'Ambit IT Park, Ambattur', 'Anna Salai',\n",
       "       'Hotel Maris, Gopalapuram', 'Kanchipuram District',\n",
       "       ' InterContinental Chennai Mahabalipuram Resort, East...',\n",
       "       'Mandaveli', 'Ideal Beach Resort, East Coast Road (ECR)',\n",
       "       'Chariot Beach Resort, East Coast Road (ECR)',\n",
       "       'VR Mall, Anna Nagar', 'Fortune Select Grand, Chengalpattu',\n",
       "       'Madhavaram', 'Mamalla Beach Resort, Mahabalipuram ',\n",
       "       'Hotel Blue Nile, Pallavaram', 'OMR Food Street, Perumbakkam',\n",
       "       'Kora Food Street, Anna Nagar West', 'Thiruvallur',\n",
       "       'Hotel Mamallaa Heritage, East Coast Road (ECR)',\n",
       "       'Gokulam Park Hotel, Ashok Nagar', 'Chengalpattu',\n",
       "       'Hotel Marina Inn, Egmore', 'Fairfield by Marriot, Chengalpattu',\n",
       "       'Mercure, Sriperumbudur', 'OMR Food Street,Thuraipakkam',\n",
       "       'Vestin Park Hotel, Egmore', 'Keys Hotel, Thiruvanmiyur',\n",
       "       'Gokulam Park Sabari - OMR, Old Mahabalipuram Road ',\n",
       "       'Virugambakkam', 'Parrys', 'SKLS Galaxy Mall, Redhills',\n",
       "       'Tiruvottiyur', 'Chennai Food Town, Thuraipakkam',\n",
       "       'Grand Residence Hotel, Porur', 'Red Hills',\n",
       "       'BKR Grand Hotel, T. Nagar', 'Hotel Bhimaas, Vadapalani',\n",
       "       'La Woods Hotel, Thousand Lights', 'Southern Residency Hotel, OMR',\n",
       "       'OMR Food Street, Injambakkam', 'TNHB Complex, Adyar',\n",
       "       'Hotel Beverly, Kilpauk', 'Oragadam',\n",
       "       'Quality Inn Sabari, T. Nagar', 'Ascendas IT Park, Taramani',\n",
       "       'Ranga Residency, Chengalpattu', \"The King's Hotel, Egmore\",\n",
       "       'Spencer Plaza Mall, Thousand Lights', 'Vettuvankeni',\n",
       "       'Ponnis Grand Inn Hotel, Thiruvallur', 'Hotel SRR Grand, Vandalur',\n",
       "       'Hotel Poigai, Arumbakkam', 'Saaral Residency, Mogappair',\n",
       "       'Park Plaza OMR, Thuraipakkam', 'Hotel Fortel, Egmore',\n",
       "       'Chennai Citi Centre, Mylapore', 'Hotel Sudhara, T. Nagar',\n",
       "       'Hotel Maurya International, Vadapalani',\n",
       "       'Hotel Raj Palace, T. Nagar',\n",
       "       'IBIS Hotel, Old Mahabalipuram Road (OMR)',\n",
       "       'The Grand Mall, Velachery', 'The Checkers Hotel, Saidapet',\n",
       "       'Eat And Pack, Ambattur ', 'Nayagara Hotels, Kodambakkam',\n",
       "       'The Pride Hotel, Kilpauk', 'Golden Sun Resort, Mamallapuram',\n",
       "       'Jade Resorts, East Coast Road (ECR)', 'Hotel Manhattan, Mylapore',\n",
       "       'Hotel Vee Yes, Egmore', 'Hotel Blue Diamond, Kilpauk',\n",
       "       'The Vijay Park Hotel, Arumbakkam',\n",
       "       'Green Coconut Resort, Kanchipuram District',\n",
       "       'Hotel Mount Heera, Alandur', 'Hotel Shelter, Mylapore',\n",
       "       'Ampa Skywalk Mall, Aminijikarai',\n",
       "       'Hotel Regenta Central RS, Navallur',\n",
       "       'Hotel Milestonnez, Kanchipuram District',\n",
       "       'Hotel Royal Regency, Vepery', 'Hotel Chennai Deluxe, Koyambedu',\n",
       "       'GRT Regency, Kanchipuram ', 'The Hotel Royal Plaza, Koyambedu',\n",
       "       'Hotel Victoria, Egmore', 'Liberty Park Hotel, Kodambakkam',\n",
       "       'Meenambakkam', 'Hotel Joyland, Chengalpattu',\n",
       "       'Spectrum The Grand Venus Mall, Perambur',\n",
       "       'Hotel Goutham Manor, Nungambakkam',\n",
       "       'Hotel Anitha Towers, Triplicane',\n",
       "       'Hotel Sathyam Grand Resort, Kanchipuram District',\n",
       "       'Hotel Peninsula, T. Nagar', 'Hotel NRS Sakithyan, T. Nagar',\n",
       "       'Vivira Mall, Navallur', 'DLF IT Park, Ramapuram',\n",
       "       'RMZ Millenia Business Park, Old Mahabalipuram Road (OMR)',\n",
       "       'RK Salai (Cathedral Road)', 'Chandra Metro Mall, Virugambakkam'],\n",
       "      dtype=object)"
      ]
     },
     "execution_count": 17,
     "metadata": {},
     "output_type": "execute_result"
    }
   ],
   "source": [
    "df['Location'].unique()"
   ]
  },
  {
   "cell_type": "code",
   "execution_count": null,
   "metadata": {},
   "outputs": [],
   "source": []
  }
 ],
 "metadata": {
  "kernelspec": {
   "display_name": "Python 3 (ipykernel)",
   "language": "python",
   "name": "python3"
  },
  "language_info": {
   "codemirror_mode": {
    "name": "ipython",
    "version": 3
   },
   "file_extension": ".py",
   "mimetype": "text/x-python",
   "name": "python",
   "nbconvert_exporter": "python",
   "pygments_lexer": "ipython3",
   "version": "3.9.13"
  }
 },
 "nbformat": 4,
 "nbformat_minor": 4
}
